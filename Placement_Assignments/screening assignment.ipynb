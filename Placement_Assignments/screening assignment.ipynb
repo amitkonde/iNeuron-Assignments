{
 "cells": [
  {
   "cell_type": "markdown",
   "id": "5b734376",
   "metadata": {},
   "source": [
    "## Python Screening Assignment"
   ]
  },
  {
   "cell_type": "markdown",
   "id": "9d126519",
   "metadata": {},
   "source": [
    "#### 1. Create a function in python to read the text file and replace specific content of the file."
   ]
  },
  {
   "cell_type": "code",
   "execution_count": 1,
   "id": "a8ee8b69",
   "metadata": {},
   "outputs": [],
   "source": [
    "file=open(\"example.txt\")"
   ]
  },
  {
   "cell_type": "code",
   "execution_count": 2,
   "id": "83ae280d",
   "metadata": {},
   "outputs": [
    {
     "data": {
      "text/plain": [
       "'This is a placement assignment'"
      ]
     },
     "execution_count": 2,
     "metadata": {},
     "output_type": "execute_result"
    }
   ],
   "source": [
    "file.read()"
   ]
  },
  {
   "cell_type": "code",
   "execution_count": 3,
   "id": "5d5f2c1b",
   "metadata": {},
   "outputs": [],
   "source": [
    "def replace(filename):\n",
    "    try:\n",
    "        file=open(filename)\n",
    "        text1=file.read()\n",
    "        g=text1.replace('placement', 'screening')\n",
    "        file.close()\n",
    "        \n",
    "        file2=open(filename,\"w+\")\n",
    "        file2.write(g)\n",
    "        file2.seek(0)\n",
    "        text2=file2.read()\n",
    "        file2.close()\n",
    "        \n",
    "        return text1, text2\n",
    "    except Exception as e:\n",
    "        return e\n",
    "    "
   ]
  },
  {
   "cell_type": "code",
   "execution_count": 4,
   "id": "ae2ca4f4",
   "metadata": {},
   "outputs": [
    {
     "data": {
      "text/plain": [
       "('This is a placement assignment', 'This is a screening assignment')"
      ]
     },
     "execution_count": 4,
     "metadata": {},
     "output_type": "execute_result"
    }
   ],
   "source": [
    "replace(\"example.txt\")"
   ]
  },
  {
   "cell_type": "code",
   "execution_count": 5,
   "id": "2028a90a",
   "metadata": {},
   "outputs": [
    {
     "data": {
      "text/plain": [
       "0"
      ]
     },
     "execution_count": 5,
     "metadata": {},
     "output_type": "execute_result"
    }
   ],
   "source": [
    "file.seek(0)"
   ]
  },
  {
   "cell_type": "code",
   "execution_count": 6,
   "id": "0c7d2714",
   "metadata": {},
   "outputs": [
    {
     "data": {
      "text/plain": [
       "'This is a screening assignment'"
      ]
     },
     "execution_count": 6,
     "metadata": {},
     "output_type": "execute_result"
    }
   ],
   "source": [
    "file.read()"
   ]
  },
  {
   "cell_type": "markdown",
   "id": "0ed7c857",
   "metadata": {},
   "source": [
    "#### 2. Demonstrate use of abstract class, multiple inheritance and decorator in python using examples."
   ]
  },
  {
   "cell_type": "markdown",
   "id": "3177a085",
   "metadata": {},
   "source": [
    "#### Abtract Class\n",
    "A class is called an Abstract class if it contains one or more abstract methods. An abstract method is a method that is declared, but contains no implementation. Abstract classes may not be instantiated, and its abstract methods must be implemented by its subclasses<br>\n",
    "In python there is no inbuilt abstract class method.Therefore defining the abstract class from the base method module."
   ]
  },
  {
   "cell_type": "code",
   "execution_count": 7,
   "id": "f7d11435",
   "metadata": {},
   "outputs": [],
   "source": [
    "from abc import ABC, abstractmethod\n",
    " \n",
    "class Shape(ABC):\n",
    " \n",
    "    @abstractmethod\n",
    "    def noofsides(self):\n",
    "        pass\n",
    "    \n",
    "class Triangle(Shape):\n",
    "    def noofsides(self):\n",
    "        print(\"I have 3 sides\")\n",
    "\n",
    "class Sqaure(Shape):\n",
    "    def noofsides(self):\n",
    "        print(\"I have 5 sides\")\n",
    "\n",
    "class Hexagon(Shape):\n",
    "    def noofsides(self):\n",
    "        print(\"I have 6 sides\")"
   ]
  },
  {
   "cell_type": "code",
   "execution_count": 8,
   "id": "e0c32c22",
   "metadata": {},
   "outputs": [
    {
     "name": "stdout",
     "output_type": "stream",
     "text": [
      "I have 3 sides\n",
      "I have 5 sides\n",
      "I have 6 sides\n"
     ]
    }
   ],
   "source": [
    "T = Triangle()\n",
    "T.noofsides()\n",
    " \n",
    "S = Sqaure()\n",
    "S.noofsides()\n",
    " \n",
    "H = Hexagon()\n",
    "H.noofsides()"
   ]
  },
  {
   "cell_type": "markdown",
   "id": "a5038a18",
   "metadata": {},
   "source": [
    "#### Multiple Inheritance\n",
    "If a class is derived from two or more base classes then it is called as multiple inheritance"
   ]
  },
  {
   "cell_type": "code",
   "execution_count": 39,
   "id": "acd8904f",
   "metadata": {},
   "outputs": [],
   "source": [
    "class Employees(): \n",
    "    def Name(self):\n",
    "        print(\"Employee Name: Dhanshri\")\n",
    "class Emp_id():\n",
    "    def id(self):\n",
    "        print(\"Emp_id: 101\")\n",
    "\n",
    "class department(Employees, Emp_id):\n",
    "    def depart(self):\n",
    "        print(\"Department:IT\")\n",
    "        "
   ]
  },
  {
   "cell_type": "code",
   "execution_count": 40,
   "id": "dee964c4",
   "metadata": {},
   "outputs": [],
   "source": [
    "emp=department()"
   ]
  },
  {
   "cell_type": "code",
   "execution_count": 41,
   "id": "0610bccb",
   "metadata": {},
   "outputs": [
    {
     "name": "stdout",
     "output_type": "stream",
     "text": [
      "Employee Name: Dhanshri\n",
      "Emp_id: 101\n",
      "Department:IT\n"
     ]
    }
   ],
   "source": [
    "emp.Name()\n",
    "emp.id()\n",
    "emp.depart()"
   ]
  },
  {
   "cell_type": "markdown",
   "id": "81bc974f",
   "metadata": {},
   "source": [
    "#### Decorator\n",
    "We can use decorator to change the behavior of a function or class. We use them to wrap another function in order to enhance its functionality without having to change it permanently."
   ]
  },
  {
   "cell_type": "code",
   "execution_count": 42,
   "id": "f56daa7f",
   "metadata": {},
   "outputs": [],
   "source": [
    "def my_decor(func):\n",
    "    def my_wrap():\n",
    "        print(\"Decorator Function\")\n",
    "        return func()\n",
    "    return my_wrap"
   ]
  },
  {
   "cell_type": "code",
   "execution_count": 43,
   "id": "4e078bbb",
   "metadata": {},
   "outputs": [
    {
     "name": "stdout",
     "output_type": "stream",
     "text": [
      "Decorator Function\n",
      "Main Function\n"
     ]
    }
   ],
   "source": [
    "def my_function():\n",
    "    print(\"Main Function\")\n",
    "my_function = my_decor(my_function)\n",
    "my_function()"
   ]
  },
  {
   "cell_type": "code",
   "execution_count": null,
   "id": "348f90f3",
   "metadata": {},
   "outputs": [],
   "source": []
  }
 ],
 "metadata": {
  "kernelspec": {
   "display_name": "Python 3",
   "language": "python",
   "name": "python3"
  },
  "language_info": {
   "codemirror_mode": {
    "name": "ipython",
    "version": 3
   },
   "file_extension": ".py",
   "mimetype": "text/x-python",
   "name": "python",
   "nbconvert_exporter": "python",
   "pygments_lexer": "ipython3",
   "version": "3.8.8"
  }
 },
 "nbformat": 4,
 "nbformat_minor": 5
}
